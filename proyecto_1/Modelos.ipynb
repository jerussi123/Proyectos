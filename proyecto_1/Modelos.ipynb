{
 "cells": [
  {
   "cell_type": "code",
   "execution_count": 1,
   "metadata": {},
   "outputs": [],
   "source": [
    "import pandas as pd\n",
    "import seaborn as sns\n",
    "import matplotlib.pyplot as plt"
   ]
  },
  {
   "cell_type": "code",
   "execution_count": 3,
   "metadata": {},
   "outputs": [],
   "source": [
    "%matplotlib inline"
   ]
  },
  {
   "cell_type": "code",
   "execution_count": 2,
   "metadata": {},
   "outputs": [],
   "source": [
    "data=pd.read_csv(\"Data_limpia.csv\")"
   ]
  },
  {
   "cell_type": "markdown",
   "metadata": {},
   "source": [
    "## Modelos"
   ]
  },
  {
   "cell_type": "markdown",
   "metadata": {},
   "source": [
    "### Modelo con todas las variables"
   ]
  },
  {
   "cell_type": "markdown",
   "metadata": {},
   "source": [
    "Variables explicativas"
   ]
  },
  {
   "cell_type": "code",
   "execution_count": 4,
   "metadata": {},
   "outputs": [
    {
     "data": {
      "text/plain": [
       "Index(['Rented Bike Count', 'Hour', 'Temperature(C)', 'Humidity(%)',\n",
       "       'Wind speed (m/s)', 'Visibility (10m)', 'Dew point temperature(C)',\n",
       "       'Solar Radiation (MJ/m2)', 'Rainfall(mm)', 'Snowfall (cm)', 'Seasons',\n",
       "       'Holiday', 'Functioning Day'],\n",
       "      dtype='object')"
      ]
     },
     "execution_count": 4,
     "metadata": {},
     "output_type": "execute_result"
    }
   ],
   "source": [
    "data.columns"
   ]
  },
  {
   "cell_type": "code",
   "execution_count": 5,
   "metadata": {},
   "outputs": [
    {
     "data": {
      "text/plain": [
       "(8743, 14)"
      ]
     },
     "execution_count": 5,
     "metadata": {},
     "output_type": "execute_result"
    }
   ],
   "source": [
    "# Definir las variables explicativas del modelo. Es decir todas menos la variable de respuesta\n",
    "features = ['Hour', 'Temperature(C)', 'Humidity(%)',\n",
    "       'Wind speed (m/s)', 'Visibility (10m)', 'Dew point temperature(C)',\n",
    "       'Solar Radiation (MJ/m2)', 'Rainfall(mm)', 'Snowfall (cm)', 'Seasons',\n",
    "       'Holiday', 'Functioning Day']\n",
    "\n",
    "# Guardar el df con solo variables explicativas\n",
    "X = data[features]\n",
    "\n",
    "# Convertir las variable de tipo texto en categoricas.\n",
    "# Se usa el dtype=int, para que lo convierta en 1-0 y no en true-false para facilidad del modelo\n",
    "# Se usa drop_first=true, para eliminar la primera opción de las variables categoricas y evitar el problema de multicolinealidad\n",
    "X = pd.get_dummies(X, columns=['Seasons', 'Holiday', 'Functioning Day'], dtype=int, drop_first=True)\n",
    "\n",
    "X.head()\n",
    "\n",
    "X.shape"
   ]
  },
  {
   "cell_type": "markdown",
   "metadata": {},
   "source": [
    "Variable de Respuesta"
   ]
  },
  {
   "cell_type": "code",
   "execution_count": 6,
   "metadata": {},
   "outputs": [
    {
     "data": {
      "text/plain": [
       "(8743,)"
      ]
     },
     "execution_count": 6,
     "metadata": {},
     "output_type": "execute_result"
    }
   ],
   "source": [
    "# Definir la variable de respuesta\n",
    "\n",
    "Y=data[\"Rented Bike Count\"]\n",
    "Y.head()\n",
    "\n",
    "Y.shape"
   ]
  },
  {
   "cell_type": "markdown",
   "metadata": {},
   "source": [
    "Regresión MCO"
   ]
  },
  {
   "cell_type": "code",
   "execution_count": 7,
   "metadata": {},
   "outputs": [],
   "source": [
    "from sklearn.model_selection import train_test_split\n",
    "import statsmodels.api as sm\n",
    "\n",
    "X_train, X_test, y_train, y_test = train_test_split(X, Y, random_state=1,test_size=0.2)\n",
    "\n",
    "# agregar constante explíticamente\n",
    "X_train = sm.add_constant(X_train)"
   ]
  },
  {
   "cell_type": "code",
   "execution_count": 8,
   "metadata": {},
   "outputs": [
    {
     "name": "stdout",
     "output_type": "stream",
     "text": [
      "                             OLS Regression Results                            \n",
      "===============================================================================\n",
      "Dep. Variable:       Rented Bike Count   R-squared:                       0.559\n",
      "Model:                             OLS   Adj. R-squared:                  0.558\n",
      "Method:                  Least Squares   F-statistic:                     632.2\n",
      "Date:              dom., 08 sept. 2024   Prob (F-statistic):               0.00\n",
      "Time:                         17:06:50   Log-Likelihood:                -52335.\n",
      "No. Observations:                 6994   AIC:                         1.047e+05\n",
      "Df Residuals:                     6979   BIC:                         1.048e+05\n",
      "Df Model:                           14                                         \n",
      "Covariance Type:             nonrobust                                         \n",
      "============================================================================================\n",
      "                               coef    std err          t      P>|t|      [0.025      0.975]\n",
      "--------------------------------------------------------------------------------------------\n",
      "const                      619.8338    131.311      4.720      0.000     362.424     877.244\n",
      "Hour                        26.4727      0.819     32.321      0.000      24.867      28.078\n",
      "Temperature(C)              -7.9117      4.791     -1.651      0.099     -17.303       1.479\n",
      "Humidity(%)                -18.8385      1.399    -13.461      0.000     -21.582     -16.095\n",
      "Wind speed (m/s)            14.5495      5.638      2.581      0.010       3.497      25.602\n",
      "Visibility (10m)            -0.0052      0.011     -0.463      0.643      -0.027       0.017\n",
      "Dew point temperature(C)    38.9078      5.101      7.627      0.000      28.908      48.907\n",
      "Solar Radiation (MJ/m2)    -81.7864      8.455     -9.673      0.000     -98.362     -65.211\n",
      "Rainfall(mm)               -49.9561      4.696    -10.639      0.000     -59.161     -40.751\n",
      "Snowfall (cm)               47.4229     12.689      3.737      0.000      22.549      72.297\n",
      "Seasons_Spring            -123.2836     15.495     -7.956      0.000    -153.658     -92.909\n",
      "Seasons_Summer            -187.8887     19.216     -9.778      0.000    -225.558    -150.219\n",
      "Seasons_Winter            -355.3736     21.933    -16.202      0.000    -398.370    -312.377\n",
      "Holiday_No Holiday         122.6882     24.178      5.074      0.000      75.291     170.085\n",
      "Functioning Day_Yes        941.0729     29.507     31.893      0.000     883.230     998.916\n",
      "==============================================================================\n",
      "Omnibus:                     1175.715   Durbin-Watson:                   1.976\n",
      "Prob(Omnibus):                  0.000   Jarque-Bera (JB):             2373.721\n",
      "Skew:                           1.015   Prob(JB):                         0.00\n",
      "Kurtosis:                       5.007   Cond. No.                     4.00e+04\n",
      "==============================================================================\n",
      "\n",
      "Notes:\n",
      "[1] Standard Errors assume that the covariance matrix of the errors is correctly specified.\n",
      "[2] The condition number is large,  4e+04. This might indicate that there are\n",
      "strong multicollinearity or other numerical problems.\n"
     ]
    }
   ],
   "source": [
    "# regresión usando mínimos cuadrados ordinarios (ordinary least squares - OLS) \n",
    "model = sm.OLS(y_train, X_train).fit()\n",
    "\n",
    "# resumen de resultados\n",
    "print(model.summary())"
   ]
  }
 ],
 "metadata": {
  "kernelspec": {
   "display_name": "Python 3",
   "language": "python",
   "name": "python3"
  },
  "language_info": {
   "codemirror_mode": {
    "name": "ipython",
    "version": 3
   },
   "file_extension": ".py",
   "mimetype": "text/x-python",
   "name": "python",
   "nbconvert_exporter": "python",
   "pygments_lexer": "ipython3",
   "version": "3.11.9"
  }
 },
 "nbformat": 4,
 "nbformat_minor": 2
}
