{
 "cells": [
  {
   "cell_type": "code",
   "execution_count": 1,
   "metadata": {},
   "outputs": [],
   "source": [
    "import pandas as pd\n",
    "import seaborn as sns\n",
    "import matplotlib.pyplot as plt"
   ]
  },
  {
   "cell_type": "code",
   "execution_count": 2,
   "metadata": {},
   "outputs": [],
   "source": [
    "%matplotlib inline"
   ]
  },
  {
   "cell_type": "code",
   "execution_count": 3,
   "metadata": {},
   "outputs": [],
   "source": [
    "data=pd.read_csv(\"Data_limpia.csv\")"
   ]
  },
  {
   "cell_type": "markdown",
   "metadata": {},
   "source": [
    "## Modelos"
   ]
  },
  {
   "cell_type": "markdown",
   "metadata": {},
   "source": [
    "### Modelo con todas las variables"
   ]
  },
  {
   "cell_type": "markdown",
   "metadata": {},
   "source": [
    "Variables explicativas"
   ]
  },
  {
   "cell_type": "code",
   "execution_count": 4,
   "metadata": {},
   "outputs": [
    {
     "data": {
      "text/plain": [
       "Index(['Rented Bike Count', 'Hour', 'Temperature(C)', 'Humidity(%)',\n",
       "       'Wind speed (m/s)', 'Visibility (10m)', 'Dew point temperature(C)',\n",
       "       'Solar Radiation (MJ/m2)', 'Rainfall(mm)', 'Snowfall (cm)', 'Seasons',\n",
       "       'Holiday', 'Functioning Day'],\n",
       "      dtype='object')"
      ]
     },
     "execution_count": 4,
     "metadata": {},
     "output_type": "execute_result"
    }
   ],
   "source": [
    "data.columns"
   ]
  },
  {
   "cell_type": "code",
   "execution_count": 12,
   "metadata": {},
   "outputs": [
    {
     "data": {
      "text/plain": [
       "(8743, 14)"
      ]
     },
     "execution_count": 12,
     "metadata": {},
     "output_type": "execute_result"
    }
   ],
   "source": [
    "# Definir las variables explicativas del modelo. Es decir todas menos la variable de respuesta\n",
    "features = ['Hour', 'Temperature(C)', 'Humidity(%)',\n",
    "       'Wind speed (m/s)', 'Visibility (10m)', 'Dew point temperature(C)',\n",
    "       'Solar Radiation (MJ/m2)', 'Rainfall(mm)', 'Snowfall (cm)', 'Seasons',\n",
    "       'Holiday', 'Functioning Day']\n",
    "\n",
    "# Guardar el df con solo variables explicativas\n",
    "X = data[features]\n",
    "\n",
    "# Convertir las variable de tipo texto en categoricas.\n",
    "# Se usa el dtype=int, para que lo convierta en 1-0 y no en true-false para facilidad del modelo\n",
    "# Se usa drop_first=true, para eliminar la primera opción de las variables categoricas y evitar el problema de multicolinealidad\n",
    "X = pd.get_dummies(X, columns=['Seasons', 'Holiday', 'Functioning Day'], dtype=int, drop_first=True)\n",
    "\n",
    "X.head()\n",
    "\n",
    "X.shape"
   ]
  },
  {
   "cell_type": "markdown",
   "metadata": {},
   "source": [
    "Variable de Respuesta"
   ]
  },
  {
   "cell_type": "code",
   "execution_count": 13,
   "metadata": {},
   "outputs": [
    {
     "data": {
      "text/plain": [
       "(8743,)"
      ]
     },
     "execution_count": 13,
     "metadata": {},
     "output_type": "execute_result"
    }
   ],
   "source": [
    "# Definir la variable de respuesta\n",
    "\n",
    "Y=data[\"Rented Bike Count\"]\n",
    "Y.head()\n",
    "\n",
    "Y.shape"
   ]
  },
  {
   "cell_type": "markdown",
   "metadata": {},
   "source": [
    "Regresión MCO"
   ]
  },
  {
   "cell_type": "code",
   "execution_count": 14,
   "metadata": {},
   "outputs": [],
   "source": [
    "from sklearn.model_selection import train_test_split\n",
    "import statsmodels.api as sm\n",
    "\n",
    "X_train, X_test, y_train, y_test = train_test_split(X, Y, random_state=1,test_size=0.2)\n",
    "\n",
    "# agregar constante explíticamente\n",
    "X_train = sm.add_constant(X_train)"
   ]
  },
  {
   "cell_type": "code",
   "execution_count": 15,
   "metadata": {},
   "outputs": [
    {
     "name": "stdout",
     "output_type": "stream",
     "text": [
      "                             OLS Regression Results                            \n",
      "===============================================================================\n",
      "Dep. Variable:       Rented Bike Count   R-squared:                       0.559\n",
      "Model:                             OLS   Adj. R-squared:                  0.558\n",
      "Method:                  Least Squares   F-statistic:                     632.2\n",
      "Date:              dom., 08 sept. 2024   Prob (F-statistic):               0.00\n",
      "Time:                         21:46:06   Log-Likelihood:                -52335.\n",
      "No. Observations:                 6994   AIC:                         1.047e+05\n",
      "Df Residuals:                     6979   BIC:                         1.048e+05\n",
      "Df Model:                           14                                         \n",
      "Covariance Type:             nonrobust                                         \n",
      "============================================================================================\n",
      "                               coef    std err          t      P>|t|      [0.025      0.975]\n",
      "--------------------------------------------------------------------------------------------\n",
      "const                      619.8338    131.311      4.720      0.000     362.424     877.244\n",
      "Hour                        26.4727      0.819     32.321      0.000      24.867      28.078\n",
      "Temperature(C)              -7.9117      4.791     -1.651      0.099     -17.303       1.479\n",
      "Humidity(%)                -18.8385      1.399    -13.461      0.000     -21.582     -16.095\n",
      "Wind speed (m/s)            14.5495      5.638      2.581      0.010       3.497      25.602\n",
      "Visibility (10m)            -0.0052      0.011     -0.463      0.643      -0.027       0.017\n",
      "Dew point temperature(C)    38.9078      5.101      7.627      0.000      28.908      48.907\n",
      "Solar Radiation (MJ/m2)    -81.7864      8.455     -9.673      0.000     -98.362     -65.211\n",
      "Rainfall(mm)               -49.9561      4.696    -10.639      0.000     -59.161     -40.751\n",
      "Snowfall (cm)               47.4229     12.689      3.737      0.000      22.549      72.297\n",
      "Seasons_Spring            -123.2836     15.495     -7.956      0.000    -153.658     -92.909\n",
      "Seasons_Summer            -187.8887     19.216     -9.778      0.000    -225.558    -150.219\n",
      "Seasons_Winter            -355.3736     21.933    -16.202      0.000    -398.370    -312.377\n",
      "Holiday_No Holiday         122.6882     24.178      5.074      0.000      75.291     170.085\n",
      "Functioning Day_Yes        941.0729     29.507     31.893      0.000     883.230     998.916\n",
      "==============================================================================\n",
      "Omnibus:                     1175.715   Durbin-Watson:                   1.976\n",
      "Prob(Omnibus):                  0.000   Jarque-Bera (JB):             2373.721\n",
      "Skew:                           1.015   Prob(JB):                         0.00\n",
      "Kurtosis:                       5.007   Cond. No.                     4.00e+04\n",
      "==============================================================================\n",
      "\n",
      "Notes:\n",
      "[1] Standard Errors assume that the covariance matrix of the errors is correctly specified.\n",
      "[2] The condition number is large,  4e+04. This might indicate that there are\n",
      "strong multicollinearity or other numerical problems.\n"
     ]
    }
   ],
   "source": [
    "# regresión usando mínimos cuadrados ordinarios (ordinary least squares - OLS) \n",
    "model = sm.OLS(y_train, X_train).fit()\n",
    "\n",
    "# resumen de resultados\n",
    "print(model.summary())"
   ]
  },
  {
   "cell_type": "markdown",
   "metadata": {},
   "source": [
    "Verificar multicolinealidad"
   ]
  },
  {
   "cell_type": "code",
   "execution_count": 20,
   "metadata": {},
   "outputs": [
    {
     "name": "stdout",
     "output_type": "stream",
     "text": [
      "        Variable Explicativa         VIF\n",
      "1                       Hour    1.214939\n",
      "2             Temperature(C)  122.348253\n",
      "3                Humidity(%)   29.903385\n",
      "4           Wind speed (m/s)    1.302689\n",
      "5           Visibility (10m)    1.721393\n",
      "6   Dew point temperature(C)  165.512625\n",
      "7    Solar Radiation (MJ/m2)    2.037762\n",
      "8               Rainfall(mm)    1.099403\n",
      "9              Snowfall (cm)    1.130734\n",
      "10            Seasons_Spring    1.703757\n",
      "11            Seasons_Summer    2.616806\n",
      "12            Seasons_Winter    3.372716\n",
      "13        Holiday_No Holiday    1.024113\n",
      "14       Functioning Day_Yes    1.081420\n"
     ]
    }
   ],
   "source": [
    "from statsmodels.stats.outliers_influence import variance_inflation_factor\n",
    "from statsmodels.tools.tools import add_constant\n",
    "\n",
    "# Se crea un df, en el que se añade una columna con constantes que representa la columna de unos en MCO\n",
    "df_MCO = add_constant(X)\n",
    "\n",
    "# Se crea un DF vacio para poder calcular el VIF de cada variable\n",
    "vif_df = pd.DataFrame()\n",
    "\n",
    "# Se crea una columna con el nombre de Variable Explicativa, a la que cada fila representa una variable explicativa\n",
    "vif_df[\"Variable Explicativa\"] = df_MCO.columns\n",
    "\n",
    "# Se calcula el VIF de cada variable\n",
    "\n",
    "vif_values = []\n",
    "for i in range(df_MCO.shape[1]):\n",
    "    vif = variance_inflation_factor(df_MCO.values,i)\n",
    "\n",
    "    vif_values.append(vif)\n",
    "\n",
    "vif_df[\"VIF\"]=vif_values                                                 \n",
    "\n",
    "# Filtra solo las filas correspondientes a las variables explicativas (no la constante)\n",
    "vif_df = vif_df[vif_df[\"Variable Explicativa\"] != \"const\"]\n",
    "\n",
    "# Imprime los resultados\n",
    "print(vif_df)"
   ]
  },
  {
   "cell_type": "markdown",
   "metadata": {},
   "source": [
    "Definir las variables explicativas"
   ]
  },
  {
   "cell_type": "markdown",
   "metadata": {},
   "source": [
    "### Modelo Variables Significativas"
   ]
  },
  {
   "cell_type": "code",
   "execution_count": 21,
   "metadata": {},
   "outputs": [
    {
     "data": {
      "text/plain": [
       "(8743, 12)"
      ]
     },
     "execution_count": 21,
     "metadata": {},
     "output_type": "execute_result"
    }
   ],
   "source": [
    "# Definir las variables explicativas del modelo. Es decir todas menos la variable de respuesta\n",
    "features = ['Hour', 'Humidity(%)',\n",
    "       'Wind speed (m/s)', 'Dew point temperature(C)',\n",
    "       'Solar Radiation (MJ/m2)', 'Rainfall(mm)', 'Snowfall (cm)', 'Seasons',\n",
    "       'Holiday', 'Functioning Day']\n",
    "\n",
    "# Guardar el df con solo variables explicativas\n",
    "X = data[features]\n",
    "\n",
    "# Convertir las variable de tipo texto en categoricas.\n",
    "# Se usa el dtype=int, para que lo convierta en 1-0 y no en true-false para facilidad del modelo\n",
    "# Se usa drop_first=true, para eliminar la primera opción de las variables categoricas y evitar el problema de multicolinealidad\n",
    "X = pd.get_dummies(X, columns=['Seasons', 'Holiday', 'Functioning Day'], dtype=int, drop_first=True)\n",
    "\n",
    "X.head()\n",
    "\n",
    "X.shape"
   ]
  },
  {
   "cell_type": "code",
   "execution_count": 22,
   "metadata": {},
   "outputs": [
    {
     "data": {
      "text/plain": [
       "(8743,)"
      ]
     },
     "execution_count": 22,
     "metadata": {},
     "output_type": "execute_result"
    }
   ],
   "source": [
    "Y=data[\"Rented Bike Count\"]\n",
    "Y.head()\n",
    "\n",
    "Y.shape"
   ]
  },
  {
   "cell_type": "code",
   "execution_count": 23,
   "metadata": {},
   "outputs": [],
   "source": [
    "X_train, X_test, y_train, y_test = train_test_split(X, Y, random_state=1,test_size=0.2)\n",
    "\n",
    "# agregar constante explíticamente\n",
    "X_train = sm.add_constant(X_train)"
   ]
  },
  {
   "cell_type": "code",
   "execution_count": 24,
   "metadata": {},
   "outputs": [
    {
     "name": "stdout",
     "output_type": "stream",
     "text": [
      "                             OLS Regression Results                            \n",
      "===============================================================================\n",
      "Dep. Variable:       Rented Bike Count   R-squared:                       0.559\n",
      "Model:                             OLS   Adj. R-squared:                  0.558\n",
      "Method:                  Least Squares   F-statistic:                     737.2\n",
      "Date:              dom., 08 sept. 2024   Prob (F-statistic):               0.00\n",
      "Time:                         22:08:03   Log-Likelihood:                -52337.\n",
      "No. Observations:                 6994   AIC:                         1.047e+05\n",
      "Df Residuals:                     6981   BIC:                         1.048e+05\n",
      "Df Model:                           12                                         \n",
      "Covariance Type:             nonrobust                                         \n",
      "============================================================================================\n",
      "                               coef    std err          t      P>|t|      [0.025      0.975]\n",
      "--------------------------------------------------------------------------------------------\n",
      "const                      416.4287     47.088      8.844      0.000     324.121     508.736\n",
      "Hour                        26.4428      0.816     32.423      0.000      24.844      28.042\n",
      "Humidity(%)                -16.6341      0.467    -35.645      0.000     -17.549     -15.719\n",
      "Wind speed (m/s)            14.3099      5.610      2.551      0.011       3.312      25.308\n",
      "Dew point temperature(C)    30.6483      1.026     29.862      0.000      28.636      32.660\n",
      "Solar Radiation (MJ/m2)    -84.5936      7.985    -10.594      0.000    -100.247     -68.940\n",
      "Rainfall(mm)               -51.0595      4.642    -10.999      0.000     -60.159     -41.960\n",
      "Snowfall (cm)               45.4814     12.629      3.601      0.000      20.724      70.239\n",
      "Seasons_Spring            -123.6362     15.099     -8.188      0.000    -153.236     -94.037\n",
      "Seasons_Summer            -188.7965     19.192     -9.837      0.000    -226.418    -151.175\n",
      "Seasons_Winter            -350.2150     21.488    -16.298      0.000    -392.338    -308.092\n",
      "Holiday_No Holiday         124.4872     24.152      5.154      0.000      77.143     171.832\n",
      "Functioning Day_Yes        940.1537     29.501     31.868      0.000     882.322     997.985\n",
      "==============================================================================\n",
      "Omnibus:                     1173.798   Durbin-Watson:                   1.977\n",
      "Prob(Omnibus):                  0.000   Jarque-Bera (JB):             2373.769\n",
      "Skew:                           1.012   Prob(JB):                         0.00\n",
      "Kurtosis:                       5.011   Cond. No.                         633.\n",
      "==============================================================================\n",
      "\n",
      "Notes:\n",
      "[1] Standard Errors assume that the covariance matrix of the errors is correctly specified.\n"
     ]
    }
   ],
   "source": [
    "# regresión usando mínimos cuadrados ordinarios (ordinary least squares - OLS) \n",
    "model = sm.OLS(y_train, X_train).fit()\n",
    "\n",
    "# resumen de resultados\n",
    "print(model.summary())"
   ]
  },
  {
   "cell_type": "markdown",
   "metadata": {},
   "source": [
    "Multicolinealidad"
   ]
  },
  {
   "cell_type": "code",
   "execution_count": 25,
   "metadata": {},
   "outputs": [
    {
     "name": "stdout",
     "output_type": "stream",
     "text": [
      "        Variable Explicativa       VIF\n",
      "1                       Hour  1.204780\n",
      "2                Humidity(%)  3.348454\n",
      "3           Wind speed (m/s)  1.292186\n",
      "4   Dew point temperature(C)  6.839555\n",
      "5    Solar Radiation (MJ/m2)  1.818626\n",
      "6               Rainfall(mm)  1.072968\n",
      "7              Snowfall (cm)  1.120629\n",
      "8             Seasons_Spring  1.619095\n",
      "9             Seasons_Summer  2.610781\n",
      "10            Seasons_Winter  3.229909\n",
      "11        Holiday_No Holiday  1.022190\n",
      "12       Functioning Day_Yes  1.080684\n"
     ]
    }
   ],
   "source": [
    "# Se crea un df, en el que se añade una columna con constantes que representa la columna de unos en MCO\n",
    "df_MCO = add_constant(X)\n",
    "\n",
    "# Se crea un DF vacio para poder calcular el VIF de cada variable\n",
    "vif_df = pd.DataFrame()\n",
    "\n",
    "# Se crea una columna con el nombre de Variable Explicativa, a la que cada fila representa una variable explicativa\n",
    "vif_df[\"Variable Explicativa\"] = df_MCO.columns\n",
    "\n",
    "# Se calcula el VIF de cada variable\n",
    "\n",
    "vif_values = []\n",
    "for i in range(df_MCO.shape[1]):\n",
    "    vif = variance_inflation_factor(df_MCO.values,i)\n",
    "\n",
    "    vif_values.append(vif)\n",
    "\n",
    "vif_df[\"VIF\"]=vif_values                                                 \n",
    "\n",
    "# Filtra solo las filas correspondientes a las variables explicativas (no la constante)\n",
    "vif_df = vif_df[vif_df[\"Variable Explicativa\"] != \"const\"]\n",
    "\n",
    "# Imprime los resultados\n",
    "print(vif_df)"
   ]
  },
  {
   "cell_type": "markdown",
   "metadata": {},
   "source": [
    "### Resumen de los coeficientes y R2"
   ]
  },
  {
   "cell_type": "code",
   "execution_count": 26,
   "metadata": {},
   "outputs": [
    {
     "name": "stdout",
     "output_type": "stream",
     "text": [
      "const                       416.428738\n",
      "Hour                         26.442815\n",
      "Humidity(%)                 -16.634052\n",
      "Wind speed (m/s)             14.309891\n",
      "Dew point temperature(C)     30.648292\n",
      "Solar Radiation (MJ/m2)     -84.593649\n",
      "Rainfall(mm)                -51.059521\n",
      "Snowfall (cm)                45.481399\n",
      "Seasons_Spring             -123.636163\n",
      "Seasons_Summer             -188.796500\n",
      "Seasons_Winter             -350.215048\n",
      "Holiday_No Holiday          124.487162\n",
      "Functioning Day_Yes         940.153683\n",
      "dtype: float64\n"
     ]
    }
   ],
   "source": [
    "# Imprimir la tabla de coeficientes\n",
    "coeficientes= model.params\n",
    "print(coeficientes)"
   ]
  },
  {
   "cell_type": "code",
   "execution_count": 28,
   "metadata": {},
   "outputs": [],
   "source": [
    "coeficientes.to_csv(\"coeficiente_df.csv\",index=False,encoding=\"utf-8\")"
   ]
  },
  {
   "cell_type": "code",
   "execution_count": 29,
   "metadata": {},
   "outputs": [
    {
     "name": "stdout",
     "output_type": "stream",
     "text": [
      "0.5589342251731537 0.5581760545245471\n"
     ]
    }
   ],
   "source": [
    "print(model.rsquared, model.rsquared_adj)"
   ]
  }
 ],
 "metadata": {
  "kernelspec": {
   "display_name": "Python 3",
   "language": "python",
   "name": "python3"
  },
  "language_info": {
   "codemirror_mode": {
    "name": "ipython",
    "version": 3
   },
   "file_extension": ".py",
   "mimetype": "text/x-python",
   "name": "python",
   "nbconvert_exporter": "python",
   "pygments_lexer": "ipython3",
   "version": "3.11.9"
  }
 },
 "nbformat": 4,
 "nbformat_minor": 2
}
