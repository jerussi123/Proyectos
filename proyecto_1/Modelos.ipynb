{
 "cells": [
  {
   "cell_type": "code",
   "execution_count": 1,
   "metadata": {},
   "outputs": [],
   "source": [
    "import pandas as pd\n",
    "import seaborn as sns\n",
    "import matplotlib.pyplot as plt"
   ]
  },
  {
   "cell_type": "code",
   "execution_count": 2,
   "metadata": {},
   "outputs": [],
   "source": [
    "%matplotlib inline"
   ]
  },
  {
   "cell_type": "code",
   "execution_count": 3,
   "metadata": {},
   "outputs": [],
   "source": [
    "data=pd.read_csv(\"Data_limpia.csv\")"
   ]
  },
  {
   "cell_type": "markdown",
   "metadata": {},
   "source": [
    "## Modelos"
   ]
  },
  {
   "cell_type": "markdown",
   "metadata": {},
   "source": [
    "### Modelo con todas las variables"
   ]
  },
  {
   "cell_type": "markdown",
   "metadata": {},
   "source": [
    "Variables explicativas"
   ]
  },
  {
   "cell_type": "code",
   "execution_count": 4,
   "metadata": {},
   "outputs": [
    {
     "data": {
      "text/plain": [
       "Index(['Rented Bike Count', 'Hour', 'Temperature(C)', 'Humidity(%)',\n",
       "       'Wind speed (m/s)', 'Visibility (10m)', 'Dew point temperature(C)',\n",
       "       'Solar Radiation (MJ/m2)', 'Rainfall(mm)', 'Snowfall (cm)', 'Seasons',\n",
       "       'Holiday', 'Functioning Day'],\n",
       "      dtype='object')"
      ]
     },
     "execution_count": 4,
     "metadata": {},
     "output_type": "execute_result"
    }
   ],
   "source": [
    "data.columns"
   ]
  },
  {
   "cell_type": "code",
   "execution_count": 5,
   "metadata": {},
   "outputs": [
    {
     "data": {
      "text/plain": [
       "(8743, 14)"
      ]
     },
     "execution_count": 5,
     "metadata": {},
     "output_type": "execute_result"
    }
   ],
   "source": [
    "# Definir las variables explicativas del modelo. Es decir todas menos la variable de respuesta\n",
    "features = ['Hour', 'Temperature(C)', 'Humidity(%)',\n",
    "       'Wind speed (m/s)', 'Visibility (10m)', 'Dew point temperature(C)',\n",
    "       'Solar Radiation (MJ/m2)', 'Rainfall(mm)', 'Snowfall (cm)', 'Seasons',\n",
    "       'Holiday', 'Functioning Day']\n",
    "\n",
    "# Guardar el df con solo variables explicativas\n",
    "X = data[features]\n",
    "\n",
    "# Convertir las variable de tipo texto en categoricas.\n",
    "# Se usa el dtype=int, para que lo convierta en 1-0 y no en true-false para facilidad del modelo\n",
    "# Se usa drop_first=true, para eliminar la primera opción de las variables categoricas y evitar el problema de multicolinealidad\n",
    "X = pd.get_dummies(X, columns=['Seasons', 'Holiday', 'Functioning Day'], dtype=int, drop_first=True)\n",
    "\n",
    "X.head()\n",
    "\n",
    "X.shape"
   ]
  },
  {
   "cell_type": "markdown",
   "metadata": {},
   "source": [
    "Variable de Respuesta"
   ]
  },
  {
   "cell_type": "code",
   "execution_count": 6,
   "metadata": {},
   "outputs": [
    {
     "data": {
      "text/plain": [
       "(8743,)"
      ]
     },
     "execution_count": 6,
     "metadata": {},
     "output_type": "execute_result"
    }
   ],
   "source": [
    "# Definir la variable de respuesta\n",
    "\n",
    "Y=data[\"Rented Bike Count\"]\n",
    "Y.head()\n",
    "\n",
    "Y.shape"
   ]
  },
  {
   "cell_type": "markdown",
   "metadata": {},
   "source": [
    "Regresión MCO"
   ]
  },
  {
   "cell_type": "code",
   "execution_count": 7,
   "metadata": {},
   "outputs": [],
   "source": [
    "from sklearn.model_selection import train_test_split\n",
    "import statsmodels.api as sm\n",
    "\n",
    "X_train, X_test, y_train, y_test = train_test_split(X, Y, random_state=1,test_size=0.2)\n",
    "\n",
    "# agregar constante explíticamente\n",
    "X_train = sm.add_constant(X_train)"
   ]
  },
  {
   "cell_type": "code",
   "execution_count": 8,
   "metadata": {},
   "outputs": [
    {
     "name": "stdout",
     "output_type": "stream",
     "text": [
      "                            OLS Regression Results                            \n",
      "==============================================================================\n",
      "Dep. Variable:      Rented Bike Count   R-squared:                       0.559\n",
      "Model:                            OLS   Adj. R-squared:                  0.558\n",
      "Method:                 Least Squares   F-statistic:                     632.2\n",
      "Date:                Mon, 09 Sep 2024   Prob (F-statistic):               0.00\n",
      "Time:                        13:54:03   Log-Likelihood:                -52335.\n",
      "No. Observations:                6994   AIC:                         1.047e+05\n",
      "Df Residuals:                    6979   BIC:                         1.048e+05\n",
      "Df Model:                          14                                         \n",
      "Covariance Type:            nonrobust                                         \n",
      "============================================================================================\n",
      "                               coef    std err          t      P>|t|      [0.025      0.975]\n",
      "--------------------------------------------------------------------------------------------\n",
      "const                      619.8338    131.311      4.720      0.000     362.424     877.244\n",
      "Hour                        26.4727      0.819     32.321      0.000      24.867      28.078\n",
      "Temperature(C)              -7.9117      4.791     -1.651      0.099     -17.303       1.479\n",
      "Humidity(%)                -18.8385      1.399    -13.461      0.000     -21.582     -16.095\n",
      "Wind speed (m/s)            14.5495      5.638      2.581      0.010       3.497      25.602\n",
      "Visibility (10m)            -0.0052      0.011     -0.463      0.643      -0.027       0.017\n",
      "Dew point temperature(C)    38.9078      5.101      7.627      0.000      28.908      48.907\n",
      "Solar Radiation (MJ/m2)    -81.7864      8.455     -9.673      0.000     -98.362     -65.211\n",
      "Rainfall(mm)               -49.9561      4.696    -10.639      0.000     -59.161     -40.751\n",
      "Snowfall (cm)               47.4229     12.689      3.737      0.000      22.549      72.297\n",
      "Seasons_Spring            -123.2836     15.495     -7.956      0.000    -153.658     -92.909\n",
      "Seasons_Summer            -187.8887     19.216     -9.778      0.000    -225.558    -150.219\n",
      "Seasons_Winter            -355.3736     21.933    -16.202      0.000    -398.370    -312.377\n",
      "Holiday_No Holiday         122.6882     24.178      5.074      0.000      75.291     170.085\n",
      "Functioning Day_Yes        941.0729     29.507     31.893      0.000     883.230     998.916\n",
      "==============================================================================\n",
      "Omnibus:                     1175.715   Durbin-Watson:                   1.976\n",
      "Prob(Omnibus):                  0.000   Jarque-Bera (JB):             2373.721\n",
      "Skew:                           1.015   Prob(JB):                         0.00\n",
      "Kurtosis:                       5.007   Cond. No.                     4.00e+04\n",
      "==============================================================================\n",
      "\n",
      "Notes:\n",
      "[1] Standard Errors assume that the covariance matrix of the errors is correctly specified.\n",
      "[2] The condition number is large,  4e+04. This might indicate that there are\n",
      "strong multicollinearity or other numerical problems.\n"
     ]
    }
   ],
   "source": [
    "# regresión usando mínimos cuadrados ordinarios (ordinary least squares - OLS) \n",
    "model = sm.OLS(y_train, X_train).fit()\n",
    "\n",
    "# resumen de resultados\n",
    "print(model.summary())"
   ]
  },
  {
   "cell_type": "markdown",
   "metadata": {},
   "source": [
    "Verificar multicolinealidad"
   ]
  },
  {
   "cell_type": "code",
   "execution_count": 9,
   "metadata": {},
   "outputs": [
    {
     "name": "stdout",
     "output_type": "stream",
     "text": [
      "        Variable Explicativa         VIF\n",
      "1                       Hour    1.214939\n",
      "2             Temperature(C)  122.348253\n",
      "3                Humidity(%)   29.903385\n",
      "4           Wind speed (m/s)    1.302689\n",
      "5           Visibility (10m)    1.721393\n",
      "6   Dew point temperature(C)  165.512625\n",
      "7    Solar Radiation (MJ/m2)    2.037762\n",
      "8               Rainfall(mm)    1.099403\n",
      "9              Snowfall (cm)    1.130734\n",
      "10            Seasons_Spring    1.703757\n",
      "11            Seasons_Summer    2.616806\n",
      "12            Seasons_Winter    3.372716\n",
      "13        Holiday_No Holiday    1.024113\n",
      "14       Functioning Day_Yes    1.081420\n"
     ]
    }
   ],
   "source": [
    "from statsmodels.stats.outliers_influence import variance_inflation_factor\n",
    "from statsmodels.tools.tools import add_constant\n",
    "\n",
    "# Se crea un df, en el que se añade una columna con constantes que representa la columna de unos en MCO\n",
    "df_MCO = add_constant(X)\n",
    "\n",
    "# Se crea un DF vacio para poder calcular el VIF de cada variable\n",
    "vif_df = pd.DataFrame()\n",
    "\n",
    "# Se crea una columna con el nombre de Variable Explicativa, a la que cada fila representa una variable explicativa\n",
    "vif_df[\"Variable Explicativa\"] = df_MCO.columns\n",
    "\n",
    "# Se calcula el VIF de cada variable\n",
    "\n",
    "vif_values = []\n",
    "for i in range(df_MCO.shape[1]):\n",
    "    vif = variance_inflation_factor(df_MCO.values,i)\n",
    "\n",
    "    vif_values.append(vif)\n",
    "\n",
    "vif_df[\"VIF\"]=vif_values                                                 \n",
    "\n",
    "# Filtra solo las filas correspondientes a las variables explicativas (no la constante)\n",
    "vif_df = vif_df[vif_df[\"Variable Explicativa\"] != \"const\"]\n",
    "\n",
    "# Imprime los resultados\n",
    "print(vif_df)"
   ]
  },
  {
   "cell_type": "markdown",
   "metadata": {},
   "source": [
    "Definir las variables explicativas"
   ]
  },
  {
   "cell_type": "markdown",
   "metadata": {},
   "source": [
    "### Modelo Variables Significativas"
   ]
  },
  {
   "cell_type": "code",
   "execution_count": 10,
   "metadata": {},
   "outputs": [
    {
     "data": {
      "text/plain": [
       "(8743, 12)"
      ]
     },
     "execution_count": 10,
     "metadata": {},
     "output_type": "execute_result"
    }
   ],
   "source": [
    "# Definir las variables explicativas del modelo. Es decir todas menos la variable de respuesta\n",
    "features = ['Hour', 'Humidity(%)',\n",
    "       'Wind speed (m/s)', 'Dew point temperature(C)',\n",
    "       'Solar Radiation (MJ/m2)', 'Rainfall(mm)', 'Snowfall (cm)', 'Seasons',\n",
    "       'Holiday', 'Functioning Day']\n",
    "\n",
    "# Guardar el df con solo variables explicativas\n",
    "X = data[features]\n",
    "\n",
    "# Convertir las variable de tipo texto en categoricas.\n",
    "# Se usa el dtype=int, para que lo convierta en 1-0 y no en true-false para facilidad del modelo\n",
    "# Se usa drop_first=true, para eliminar la primera opción de las variables categoricas y evitar el problema de multicolinealidad\n",
    "X = pd.get_dummies(X, columns=['Seasons', 'Holiday', 'Functioning Day'], dtype=int, drop_first=True)\n",
    "\n",
    "X.head()\n",
    "\n",
    "X.shape"
   ]
  },
  {
   "cell_type": "code",
   "execution_count": 11,
   "metadata": {},
   "outputs": [
    {
     "data": {
      "text/plain": [
       "(8743,)"
      ]
     },
     "execution_count": 11,
     "metadata": {},
     "output_type": "execute_result"
    }
   ],
   "source": [
    "Y=data[\"Rented Bike Count\"]\n",
    "Y.head()\n",
    "\n",
    "Y.shape"
   ]
  },
  {
   "cell_type": "code",
   "execution_count": 12,
   "metadata": {},
   "outputs": [],
   "source": [
    "X_train, X_test, y_train, y_test = train_test_split(X, Y, random_state=1,test_size=0.2)\n",
    "\n",
    "# agregar constante explíticamente\n",
    "X_train = sm.add_constant(X_train)"
   ]
  },
  {
   "cell_type": "code",
   "execution_count": 13,
   "metadata": {},
   "outputs": [
    {
     "name": "stdout",
     "output_type": "stream",
     "text": [
      "                            OLS Regression Results                            \n",
      "==============================================================================\n",
      "Dep. Variable:      Rented Bike Count   R-squared:                       0.559\n",
      "Model:                            OLS   Adj. R-squared:                  0.558\n",
      "Method:                 Least Squares   F-statistic:                     737.2\n",
      "Date:                Mon, 09 Sep 2024   Prob (F-statistic):               0.00\n",
      "Time:                        13:54:03   Log-Likelihood:                -52337.\n",
      "No. Observations:                6994   AIC:                         1.047e+05\n",
      "Df Residuals:                    6981   BIC:                         1.048e+05\n",
      "Df Model:                          12                                         \n",
      "Covariance Type:            nonrobust                                         \n",
      "============================================================================================\n",
      "                               coef    std err          t      P>|t|      [0.025      0.975]\n",
      "--------------------------------------------------------------------------------------------\n",
      "const                      416.4287     47.088      8.844      0.000     324.121     508.736\n",
      "Hour                        26.4428      0.816     32.423      0.000      24.844      28.042\n",
      "Humidity(%)                -16.6341      0.467    -35.645      0.000     -17.549     -15.719\n",
      "Wind speed (m/s)            14.3099      5.610      2.551      0.011       3.312      25.308\n",
      "Dew point temperature(C)    30.6483      1.026     29.862      0.000      28.636      32.660\n",
      "Solar Radiation (MJ/m2)    -84.5936      7.985    -10.594      0.000    -100.247     -68.940\n",
      "Rainfall(mm)               -51.0595      4.642    -10.999      0.000     -60.159     -41.960\n",
      "Snowfall (cm)               45.4814     12.629      3.601      0.000      20.724      70.239\n",
      "Seasons_Spring            -123.6362     15.099     -8.188      0.000    -153.236     -94.037\n",
      "Seasons_Summer            -188.7965     19.192     -9.837      0.000    -226.418    -151.175\n",
      "Seasons_Winter            -350.2150     21.488    -16.298      0.000    -392.338    -308.092\n",
      "Holiday_No Holiday         124.4872     24.152      5.154      0.000      77.143     171.832\n",
      "Functioning Day_Yes        940.1537     29.501     31.868      0.000     882.322     997.985\n",
      "==============================================================================\n",
      "Omnibus:                     1173.798   Durbin-Watson:                   1.977\n",
      "Prob(Omnibus):                  0.000   Jarque-Bera (JB):             2373.769\n",
      "Skew:                           1.012   Prob(JB):                         0.00\n",
      "Kurtosis:                       5.011   Cond. No.                         633.\n",
      "==============================================================================\n",
      "\n",
      "Notes:\n",
      "[1] Standard Errors assume that the covariance matrix of the errors is correctly specified.\n"
     ]
    }
   ],
   "source": [
    "# regresión usando mínimos cuadrados ordinarios (ordinary least squares - OLS) \n",
    "model = sm.OLS(y_train, X_train).fit()\n",
    "\n",
    "# resumen de resultados\n",
    "print(model.summary())"
   ]
  },
  {
   "cell_type": "markdown",
   "metadata": {},
   "source": [
    "Multicolinealidad"
   ]
  },
  {
   "cell_type": "code",
   "execution_count": 14,
   "metadata": {},
   "outputs": [
    {
     "name": "stdout",
     "output_type": "stream",
     "text": [
      "        Variable Explicativa       VIF\n",
      "1                       Hour  1.204780\n",
      "2                Humidity(%)  3.348454\n",
      "3           Wind speed (m/s)  1.292186\n",
      "4   Dew point temperature(C)  6.839555\n",
      "5    Solar Radiation (MJ/m2)  1.818626\n",
      "6               Rainfall(mm)  1.072968\n",
      "7              Snowfall (cm)  1.120629\n",
      "8             Seasons_Spring  1.619095\n",
      "9             Seasons_Summer  2.610781\n",
      "10            Seasons_Winter  3.229909\n",
      "11        Holiday_No Holiday  1.022190\n",
      "12       Functioning Day_Yes  1.080684\n"
     ]
    }
   ],
   "source": [
    "# Se crea un df, en el que se añade una columna con constantes que representa la columna de unos en MCO\n",
    "df_MCO = add_constant(X)\n",
    "\n",
    "# Se crea un DF vacio para poder calcular el VIF de cada variable\n",
    "vif_df = pd.DataFrame()\n",
    "\n",
    "# Se crea una columna con el nombre de Variable Explicativa, a la que cada fila representa una variable explicativa\n",
    "vif_df[\"Variable Explicativa\"] = df_MCO.columns\n",
    "\n",
    "# Se calcula el VIF de cada variable\n",
    "\n",
    "vif_values = []\n",
    "for i in range(df_MCO.shape[1]):\n",
    "    vif = variance_inflation_factor(df_MCO.values,i)\n",
    "\n",
    "    vif_values.append(vif)\n",
    "\n",
    "vif_df[\"VIF\"]=vif_values                                                 \n",
    "\n",
    "# Filtra solo las filas correspondientes a las variables explicativas (no la constante)\n",
    "vif_df = vif_df[vif_df[\"Variable Explicativa\"] != \"const\"]\n",
    "\n",
    "# Imprime los resultados\n",
    "print(vif_df)"
   ]
  },
  {
   "cell_type": "markdown",
   "metadata": {},
   "source": [
    "### Resumen de los coeficientes y R2"
   ]
  },
  {
   "cell_type": "code",
   "execution_count": 15,
   "metadata": {},
   "outputs": [
    {
     "name": "stdout",
     "output_type": "stream",
     "text": [
      "const                       416.428738\n",
      "Hour                         26.442815\n",
      "Humidity(%)                 -16.634052\n",
      "Wind speed (m/s)             14.309891\n",
      "Dew point temperature(C)     30.648292\n",
      "Solar Radiation (MJ/m2)     -84.593649\n",
      "Rainfall(mm)                -51.059521\n",
      "Snowfall (cm)                45.481399\n",
      "Seasons_Spring             -123.636163\n",
      "Seasons_Summer             -188.796500\n",
      "Seasons_Winter             -350.215048\n",
      "Holiday_No Holiday          124.487162\n",
      "Functioning Day_Yes         940.153683\n",
      "dtype: float64\n"
     ]
    }
   ],
   "source": [
    "# Imprimir la tabla de coeficientes\n",
    "coeficientes= model.params\n",
    "print(coeficientes)"
   ]
  },
  {
   "cell_type": "code",
   "execution_count": 16,
   "metadata": {},
   "outputs": [],
   "source": [
    "coeficientes.to_csv(\"coeficiente_df.csv\",index=True,encoding=\"utf-8\")"
   ]
  },
  {
   "cell_type": "code",
   "execution_count": 17,
   "metadata": {},
   "outputs": [
    {
     "name": "stdout",
     "output_type": "stream",
     "text": [
      "0.5589342251731537 0.5581760545245471\n"
     ]
    }
   ],
   "source": [
    "print(model.rsquared, model.rsquared_adj)"
   ]
  },
  {
   "cell_type": "markdown",
   "metadata": {},
   "source": [
    "### Modelos por horas"
   ]
  },
  {
   "cell_type": "code",
   "execution_count": 34,
   "metadata": {},
   "outputs": [
    {
     "name": "stdout",
     "output_type": "stream",
     "text": [
      "[ 0  1  2  3  4  5  6  7  8  9 10 11 12 13 14 15 16 17 18 19 20 21 22 23]\n"
     ]
    }
   ],
   "source": [
    "print(data[\"Hour\"].unique())"
   ]
  },
  {
   "cell_type": "code",
   "execution_count": 85,
   "metadata": {},
   "outputs": [],
   "source": [
    "cero = data[data['Hour'] == 0]\n",
    "uno = data[data['Hour'] == 1]\n",
    "dos = data[data['Hour'] == 2]\n",
    "tres = data[data['Hour'] == 3]\n",
    "cuatro = data[data['Hour'] == 4]\n",
    "cinco = data[data['Hour'] == 5]\n",
    "seis = data[data['Hour'] == 6]\n",
    "siete = data[data['Hour'] == 7]\n",
    "ocho = data[data['Hour'] == 8]\n",
    "nueve = data[data['Hour'] == 9]\n",
    "diez = data[data['Hour'] == 10]\n",
    "once = data[data['Hour'] == 11]\n",
    "doce = data[data['Hour'] == 12]\n",
    "trece = data[data['Hour'] == 13]\n",
    "catorce = data[data['Hour'] == 14]\n",
    "quince = data[data['Hour'] == 15]\n",
    "dieciseis = data[data['Hour'] == 16]\n",
    "diecisiete = data[data['Hour'] == 17]\n",
    "dieciocho = data[data['Hour'] == 18]\n",
    "diecinueve = data[data['Hour'] == 19]\n",
    "veinte = data[data['Hour'] == 20]\n",
    "veintiuno = data[data['Hour'] == 21]\n",
    "veintidos = data[data['Hour'] == 22]\n",
    "veintitres = data[data['Hour'] == 23]"
   ]
  },
  {
   "cell_type": "code",
   "execution_count": 86,
   "metadata": {},
   "outputs": [
    {
     "name": "stdout",
     "output_type": "stream",
     "text": [
      "['cero', 'uno', 'dos', 'tres', 'cuatro', 'cinco', 'seis', 'siete', 'ocho', 'nueve', 'diez', 'once', 'doce', 'trece', 'catorce', 'quince', 'dieciseis', 'diecisiete', 'dieciocho', 'diecinueve', 'veinte', 'veintiuno', 'veintidos', 'veintitres']\n"
     ]
    }
   ],
   "source": [
    "horas = [\n",
    "    \"cero\", \"uno\", \"dos\", \"tres\", \"cuatro\", \"cinco\", \"seis\", \"siete\", \"ocho\", \"nueve\", \n",
    "    \"diez\", \"once\", \"doce\", \"trece\", \"catorce\", \"quince\", \"dieciseis\", \"diecisiete\", \n",
    "    \"dieciocho\", \"diecinueve\", \"veinte\", \"veintiuno\", \"veintidos\", \"veintitres\"]\n",
    "\n",
    "print(horas)"
   ]
  },
  {
   "cell_type": "code",
   "execution_count": 50,
   "metadata": {},
   "outputs": [],
   "source": [
    "features = ['Humidity(%)',\n",
    "       'Wind speed (m/s)', 'Dew point temperature(C)',\n",
    "       'Solar Radiation (MJ/m2)', 'Rainfall(mm)', 'Snowfall (cm)', 'Seasons',\n",
    "       'Holiday', 'Functioning Day']"
   ]
  },
  {
   "cell_type": "markdown",
   "metadata": {},
   "source": [
    "Hora 0"
   ]
  },
  {
   "cell_type": "code",
   "execution_count": 60,
   "metadata": {},
   "outputs": [],
   "source": [
    "X = cero[features]\n",
    "X = pd.get_dummies(X, columns=['Seasons', 'Holiday', 'Functioning Day'], dtype=int, drop_first=True)\n",
    "Y = cero[\"Rented Bike Count\"]\n",
    "\n",
    "X_train, X_test, y_train, y_test = train_test_split(X, Y, random_state=1,test_size=0.2)\n",
    "X_train = sm.add_constant(X_train)\n",
    "\n",
    "model_0 = sm.OLS(y_train, X_train).fit()\n",
    "coeficientes0 = model_0.params"
   ]
  },
  {
   "cell_type": "markdown",
   "metadata": {},
   "source": [
    "Hora 1"
   ]
  },
  {
   "cell_type": "code",
   "execution_count": 61,
   "metadata": {},
   "outputs": [],
   "source": [
    "X = uno[features]\n",
    "X = pd.get_dummies(X, columns=['Seasons', 'Holiday', 'Functioning Day'], dtype=int, drop_first=True)\n",
    "Y = uno[\"Rented Bike Count\"]\n",
    "\n",
    "X_train, X_test, y_train, y_test = train_test_split(X, Y, random_state=1,test_size=0.2)\n",
    "X_train = sm.add_constant(X_train)\n",
    "\n",
    "model_1 = sm.OLS(y_train, X_train).fit()\n",
    "coeficientes1 = model_1.params"
   ]
  },
  {
   "cell_type": "markdown",
   "metadata": {},
   "source": [
    "Hora 2"
   ]
  },
  {
   "cell_type": "code",
   "execution_count": 62,
   "metadata": {},
   "outputs": [],
   "source": [
    "X = dos[features]\n",
    "X = pd.get_dummies(X, columns=['Seasons', 'Holiday', 'Functioning Day'], dtype=int, drop_first=True)\n",
    "Y = dos[\"Rented Bike Count\"]\n",
    "\n",
    "X_train, X_test, y_train, y_test = train_test_split(X, Y, random_state=1,test_size=0.2)\n",
    "X_train = sm.add_constant(X_train)\n",
    "\n",
    "model_2 = sm.OLS(y_train, X_train).fit()\n",
    "coeficientes2 = model_2.params"
   ]
  },
  {
   "cell_type": "markdown",
   "metadata": {},
   "source": [
    "Tres"
   ]
  },
  {
   "cell_type": "code",
   "execution_count": 63,
   "metadata": {},
   "outputs": [],
   "source": [
    "X = tres[features]\n",
    "X = pd.get_dummies(X, columns=['Seasons', 'Holiday', 'Functioning Day'], dtype=int, drop_first=True)\n",
    "Y = tres[\"Rented Bike Count\"]\n",
    "\n",
    "X_train, X_test, y_train, y_test = train_test_split(X, Y, random_state=1,test_size=0.2)\n",
    "X_train = sm.add_constant(X_train)\n",
    "\n",
    "model_3 = sm.OLS(y_train, X_train).fit()\n",
    "coeficientes3 = model_3.params"
   ]
  },
  {
   "cell_type": "markdown",
   "metadata": {},
   "source": [
    "Cuatro"
   ]
  },
  {
   "cell_type": "code",
   "execution_count": 64,
   "metadata": {},
   "outputs": [],
   "source": [
    "X = cuatro[features]\n",
    "X = pd.get_dummies(X, columns=['Seasons', 'Holiday', 'Functioning Day'], dtype=int, drop_first=True)\n",
    "Y = cuatro[\"Rented Bike Count\"]\n",
    "\n",
    "X_train, X_test, y_train, y_test = train_test_split(X, Y, random_state=1,test_size=0.2)\n",
    "X_train = sm.add_constant(X_train)\n",
    "\n",
    "model_4 = sm.OLS(y_train, X_train).fit()\n",
    "coeficientes4 = model_4.params"
   ]
  },
  {
   "cell_type": "markdown",
   "metadata": {},
   "source": [
    "Cinco"
   ]
  },
  {
   "cell_type": "code",
   "execution_count": 65,
   "metadata": {},
   "outputs": [],
   "source": [
    "X = cinco[features]\n",
    "X = pd.get_dummies(X, columns=['Seasons', 'Holiday', 'Functioning Day'], dtype=int, drop_first=True)\n",
    "Y = cinco[\"Rented Bike Count\"]\n",
    "\n",
    "X_train, X_test, y_train, y_test = train_test_split(X, Y, random_state=1,test_size=0.2)\n",
    "X_train = sm.add_constant(X_train)\n",
    "\n",
    "model_5 = sm.OLS(y_train, X_train).fit()\n",
    "coeficientes5 = model_5.params"
   ]
  },
  {
   "cell_type": "markdown",
   "metadata": {},
   "source": [
    "Seis"
   ]
  },
  {
   "cell_type": "code",
   "execution_count": 66,
   "metadata": {},
   "outputs": [],
   "source": [
    "X = seis[features]\n",
    "X = pd.get_dummies(X, columns=['Seasons', 'Holiday', 'Functioning Day'], dtype=int, drop_first=True)\n",
    "Y = seis[\"Rented Bike Count\"]\n",
    "\n",
    "X_train, X_test, y_train, y_test = train_test_split(X, Y, random_state=1,test_size=0.2)\n",
    "X_train = sm.add_constant(X_train)\n",
    "\n",
    "model_6 = sm.OLS(y_train, X_train).fit()\n",
    "coeficientes6 = model_6.params"
   ]
  },
  {
   "cell_type": "markdown",
   "metadata": {},
   "source": [
    "Siete"
   ]
  },
  {
   "cell_type": "code",
   "execution_count": 67,
   "metadata": {},
   "outputs": [],
   "source": [
    "X = siete[features]\n",
    "X = pd.get_dummies(X, columns=['Seasons', 'Holiday', 'Functioning Day'], dtype=int, drop_first=True)\n",
    "Y = siete[\"Rented Bike Count\"]\n",
    "\n",
    "X_train, X_test, y_train, y_test = train_test_split(X, Y, random_state=1,test_size=0.2)\n",
    "X_train = sm.add_constant(X_train)\n",
    "\n",
    "model_7 = sm.OLS(y_train, X_train).fit()\n",
    "coeficientes7 = model_7.params"
   ]
  },
  {
   "cell_type": "markdown",
   "metadata": {},
   "source": [
    "Ocho"
   ]
  },
  {
   "cell_type": "code",
   "execution_count": 68,
   "metadata": {},
   "outputs": [],
   "source": [
    "X = ocho[features]\n",
    "X = pd.get_dummies(X, columns=['Seasons', 'Holiday', 'Functioning Day'], dtype=int, drop_first=True)\n",
    "Y = ocho[\"Rented Bike Count\"]\n",
    "\n",
    "X_train, X_test, y_train, y_test = train_test_split(X, Y, random_state=1,test_size=0.2)\n",
    "X_train = sm.add_constant(X_train)\n",
    "\n",
    "model_8 = sm.OLS(y_train, X_train).fit()\n",
    "coeficientes8 = model_8.params"
   ]
  },
  {
   "cell_type": "markdown",
   "metadata": {},
   "source": [
    "Nueve"
   ]
  },
  {
   "cell_type": "code",
   "execution_count": 69,
   "metadata": {},
   "outputs": [],
   "source": [
    "X = nueve[features]\n",
    "X = pd.get_dummies(X, columns=['Seasons', 'Holiday', 'Functioning Day'], dtype=int, drop_first=True)\n",
    "Y = nueve[\"Rented Bike Count\"]\n",
    "\n",
    "X_train, X_test, y_train, y_test = train_test_split(X, Y, random_state=1,test_size=0.2)\n",
    "X_train = sm.add_constant(X_train)\n",
    "\n",
    "model_9 = sm.OLS(y_train, X_train).fit()\n",
    "coeficientes9 = model_9.params"
   ]
  },
  {
   "cell_type": "markdown",
   "metadata": {},
   "source": [
    "Diez"
   ]
  },
  {
   "cell_type": "code",
   "execution_count": 70,
   "metadata": {},
   "outputs": [],
   "source": [
    "X = diez[features]\n",
    "X = pd.get_dummies(X, columns=['Seasons', 'Holiday', 'Functioning Day'], dtype=int, drop_first=True)\n",
    "Y = diez[\"Rented Bike Count\"]\n",
    "\n",
    "X_train, X_test, y_train, y_test = train_test_split(X, Y, random_state=1,test_size=0.2)\n",
    "X_train = sm.add_constant(X_train)\n",
    "\n",
    "model_10 = sm.OLS(y_train, X_train).fit()\n",
    "coeficientes10 = model_10.params"
   ]
  },
  {
   "cell_type": "markdown",
   "metadata": {},
   "source": [
    "Once"
   ]
  },
  {
   "cell_type": "code",
   "execution_count": 71,
   "metadata": {},
   "outputs": [],
   "source": [
    "X = once[features]\n",
    "X = pd.get_dummies(X, columns=['Seasons', 'Holiday', 'Functioning Day'], dtype=int, drop_first=True)\n",
    "Y = once[\"Rented Bike Count\"]\n",
    "\n",
    "X_train, X_test, y_train, y_test = train_test_split(X, Y, random_state=1,test_size=0.2)\n",
    "X_train = sm.add_constant(X_train)\n",
    "\n",
    "model_11 = sm.OLS(y_train, X_train).fit()\n",
    "coeficientes11 = model_11.params"
   ]
  },
  {
   "cell_type": "markdown",
   "metadata": {},
   "source": [
    "Doce"
   ]
  },
  {
   "cell_type": "code",
   "execution_count": 72,
   "metadata": {},
   "outputs": [],
   "source": [
    "X = doce[features]\n",
    "X = pd.get_dummies(X, columns=['Seasons', 'Holiday', 'Functioning Day'], dtype=int, drop_first=True)\n",
    "Y = doce[\"Rented Bike Count\"]\n",
    "\n",
    "X_train, X_test, y_train, y_test = train_test_split(X, Y, random_state=1,test_size=0.2)\n",
    "X_train = sm.add_constant(X_train)\n",
    "\n",
    "model_12 = sm.OLS(y_train, X_train).fit()\n",
    "coeficientes12 = model_12.params"
   ]
  },
  {
   "cell_type": "markdown",
   "metadata": {},
   "source": [
    "Trece"
   ]
  },
  {
   "cell_type": "code",
   "execution_count": 73,
   "metadata": {},
   "outputs": [],
   "source": [
    "X = trece[features]\n",
    "X = pd.get_dummies(X, columns=['Seasons', 'Holiday', 'Functioning Day'], dtype=int, drop_first=True)\n",
    "Y = trece[\"Rented Bike Count\"]\n",
    "\n",
    "X_train, X_test, y_train, y_test = train_test_split(X, Y, random_state=1,test_size=0.2)\n",
    "X_train = sm.add_constant(X_train)\n",
    "\n",
    "model_13 = sm.OLS(y_train, X_train).fit()\n",
    "coeficientes13 = model_13.params"
   ]
  },
  {
   "cell_type": "markdown",
   "metadata": {},
   "source": [
    "Catorce"
   ]
  },
  {
   "cell_type": "code",
   "execution_count": 76,
   "metadata": {},
   "outputs": [],
   "source": [
    "X = catorce[features]\n",
    "X = pd.get_dummies(X, columns=['Seasons', 'Holiday', 'Functioning Day'], dtype=int, drop_first=True)\n",
    "Y = catorce[\"Rented Bike Count\"]\n",
    "\n",
    "X_train, X_test, y_train, y_test = train_test_split(X, Y, random_state=1,test_size=0.2)\n",
    "X_train = sm.add_constant(X_train)\n",
    "\n",
    "model_14 = sm.OLS(y_train, X_train).fit()\n",
    "coeficientes14 = model_14.params"
   ]
  },
  {
   "cell_type": "markdown",
   "metadata": {},
   "source": [
    "Quince"
   ]
  },
  {
   "cell_type": "code",
   "execution_count": 77,
   "metadata": {},
   "outputs": [],
   "source": [
    "X = quince[features]\n",
    "X = pd.get_dummies(X, columns=['Seasons', 'Holiday', 'Functioning Day'], dtype=int, drop_first=True)\n",
    "Y = quince[\"Rented Bike Count\"]\n",
    "\n",
    "X_train, X_test, y_train, y_test = train_test_split(X, Y, random_state=1,test_size=0.2)\n",
    "X_train = sm.add_constant(X_train)\n",
    "\n",
    "model_15 = sm.OLS(y_train, X_train).fit()\n",
    "coeficientes15 = model_15.params"
   ]
  },
  {
   "cell_type": "markdown",
   "metadata": {},
   "source": [
    "Dieciseis"
   ]
  },
  {
   "cell_type": "code",
   "execution_count": 78,
   "metadata": {},
   "outputs": [],
   "source": [
    "X = dieciseis[features]\n",
    "X = pd.get_dummies(X, columns=['Seasons', 'Holiday', 'Functioning Day'], dtype=int, drop_first=True)\n",
    "Y = dieciseis[\"Rented Bike Count\"]\n",
    "\n",
    "X_train, X_test, y_train, y_test = train_test_split(X, Y, random_state=1,test_size=0.2)\n",
    "X_train = sm.add_constant(X_train)\n",
    "\n",
    "model_16 = sm.OLS(y_train, X_train).fit()\n",
    "coeficientes16 = model_16.params"
   ]
  },
  {
   "cell_type": "markdown",
   "metadata": {},
   "source": [
    "Decisiete"
   ]
  },
  {
   "cell_type": "code",
   "execution_count": 79,
   "metadata": {},
   "outputs": [],
   "source": [
    "X = diecisiete[features]\n",
    "X = pd.get_dummies(X, columns=['Seasons', 'Holiday', 'Functioning Day'], dtype=int, drop_first=True)\n",
    "Y = diecisiete[\"Rented Bike Count\"]\n",
    "\n",
    "X_train, X_test, y_train, y_test = train_test_split(X, Y, random_state=1,test_size=0.2)\n",
    "X_train = sm.add_constant(X_train)\n",
    "\n",
    "model_17 = sm.OLS(y_train, X_train).fit()\n",
    "coeficientes17 = model_17.params"
   ]
  },
  {
   "cell_type": "markdown",
   "metadata": {},
   "source": [
    "Dieciocho"
   ]
  },
  {
   "cell_type": "code",
   "execution_count": 80,
   "metadata": {},
   "outputs": [],
   "source": [
    "X = dieciocho[features]\n",
    "X = pd.get_dummies(X, columns=['Seasons', 'Holiday', 'Functioning Day'], dtype=int, drop_first=True)\n",
    "Y = dieciocho[\"Rented Bike Count\"]\n",
    "\n",
    "X_train, X_test, y_train, y_test = train_test_split(X, Y, random_state=1,test_size=0.2)\n",
    "X_train = sm.add_constant(X_train)\n",
    "\n",
    "model_18 = sm.OLS(y_train, X_train).fit()\n",
    "coeficientes18 = model_18.params"
   ]
  },
  {
   "cell_type": "markdown",
   "metadata": {},
   "source": [
    "Diecinueve"
   ]
  },
  {
   "cell_type": "code",
   "execution_count": 81,
   "metadata": {},
   "outputs": [],
   "source": [
    "X = diecinueve[features]\n",
    "X = pd.get_dummies(X, columns=['Seasons', 'Holiday', 'Functioning Day'], dtype=int, drop_first=True)\n",
    "Y = diecinueve[\"Rented Bike Count\"]\n",
    "\n",
    "X_train, X_test, y_train, y_test = train_test_split(X, Y, random_state=1,test_size=0.2)\n",
    "X_train = sm.add_constant(X_train)\n",
    "\n",
    "model_19 = sm.OLS(y_train, X_train).fit()\n",
    "coeficientes19 = model_19.params"
   ]
  },
  {
   "cell_type": "markdown",
   "metadata": {},
   "source": [
    "Veinte"
   ]
  },
  {
   "cell_type": "code",
   "execution_count": 82,
   "metadata": {},
   "outputs": [],
   "source": [
    "X = veinte[features]\n",
    "X = pd.get_dummies(X, columns=['Seasons', 'Holiday', 'Functioning Day'], dtype=int, drop_first=True)\n",
    "Y = veinte[\"Rented Bike Count\"]\n",
    "\n",
    "X_train, X_test, y_train, y_test = train_test_split(X, Y, random_state=1,test_size=0.2)\n",
    "X_train = sm.add_constant(X_train)\n",
    "\n",
    "model_20 = sm.OLS(y_train, X_train).fit()\n",
    "coeficientes20 = model_20.params"
   ]
  },
  {
   "cell_type": "markdown",
   "metadata": {},
   "source": [
    "Veintiuno"
   ]
  },
  {
   "cell_type": "code",
   "execution_count": 83,
   "metadata": {},
   "outputs": [],
   "source": [
    "X = veintiuno[features]\n",
    "X = pd.get_dummies(X, columns=['Seasons', 'Holiday', 'Functioning Day'], dtype=int, drop_first=True)\n",
    "Y = veintiuno[\"Rented Bike Count\"]\n",
    "\n",
    "X_train, X_test, y_train, y_test = train_test_split(X, Y, random_state=1,test_size=0.2)\n",
    "X_train = sm.add_constant(X_train)\n",
    "\n",
    "model_21 = sm.OLS(y_train, X_train).fit()\n",
    "coeficientes21 = model_21.params"
   ]
  },
  {
   "cell_type": "markdown",
   "metadata": {},
   "source": [
    "Veintidos"
   ]
  },
  {
   "cell_type": "code",
   "execution_count": 84,
   "metadata": {},
   "outputs": [],
   "source": [
    "X = veintidos[features]\n",
    "X = pd.get_dummies(X, columns=['Seasons', 'Holiday', 'Functioning Day'], dtype=int, drop_first=True)\n",
    "Y = veintidos[\"Rented Bike Count\"]\n",
    "\n",
    "X_train, X_test, y_train, y_test = train_test_split(X, Y, random_state=1,test_size=0.2)\n",
    "X_train = sm.add_constant(X_train)\n",
    "\n",
    "model_22 = sm.OLS(y_train, X_train).fit()\n",
    "coeficientes22 = model_22.params"
   ]
  },
  {
   "cell_type": "markdown",
   "metadata": {},
   "source": [
    "Veintitres"
   ]
  },
  {
   "cell_type": "code",
   "execution_count": 87,
   "metadata": {},
   "outputs": [],
   "source": [
    "X = veintitres[features]\n",
    "X = pd.get_dummies(X, columns=['Seasons', 'Holiday', 'Functioning Day'], dtype=int, drop_first=True)\n",
    "Y = veintitres[\"Rented Bike Count\"]\n",
    "\n",
    "X_train, X_test, y_train, y_test = train_test_split(X, Y, random_state=1,test_size=0.2)\n",
    "X_train = sm.add_constant(X_train)\n",
    "\n",
    "model_23 = sm.OLS(y_train, X_train).fit()\n",
    "coeficientes23 = model_23.params"
   ]
  },
  {
   "cell_type": "markdown",
   "metadata": {},
   "source": [
    "### Exportar Información"
   ]
  },
  {
   "cell_type": "code",
   "execution_count": 92,
   "metadata": {},
   "outputs": [
    {
     "name": "stdout",
     "output_type": "stream",
     "text": [
      "                               Model_0       Model_1       Model_2  \\\n",
      "const                     5.130262e+02  2.911232e+02  2.337635e+02   \n",
      "Humidity(%)              -9.083787e+00 -4.911046e+00 -3.091304e+00   \n",
      "Wind speed (m/s)         -9.201633e+00 -2.061459e+01 -6.186098e+00   \n",
      "Dew point temperature(C)  2.134659e+01  1.321345e+01  8.427035e+00   \n",
      "Solar Radiation (MJ/m2)   9.286333e-14 -7.076741e-14 -4.547510e-13   \n",
      "Rainfall(mm)             -2.033533e+01 -1.005784e+02 -8.231977e+01   \n",
      "Snowfall (cm)             2.186461e+01  7.749295e-01 -6.223762e+00   \n",
      "Seasons_Spring           -1.842080e+02 -1.635070e+02 -1.119909e+02   \n",
      "Seasons_Summer            1.404925e+01  6.476652e+01  2.688177e+01   \n",
      "Seasons_Winter           -2.702093e+02 -2.166698e+02 -1.581400e+02   \n",
      "Holiday_No Holiday       -1.563300e+01 -3.554070e+01 -4.086459e+01   \n",
      "Functioning Day_Yes       6.972380e+02  5.779018e+02  3.677049e+02   \n",
      "\n",
      "                               Model_3       Model_4       Model_5  \\\n",
      "const                     1.552436e+02  1.336451e+02  9.727304e+01   \n",
      "Humidity(%)              -1.667179e+00 -1.522264e+00 -1.691970e+00   \n",
      "Wind speed (m/s)         -1.223399e+01 -2.810712e+00 -7.378306e+00   \n",
      "Dew point temperature(C)  4.804928e+00  3.457210e+00  4.071096e+00   \n",
      "Solar Radiation (MJ/m2)  -2.014669e-14  3.538544e-14 -2.669312e-14   \n",
      "Rainfall(mm)             -5.552840e+01 -2.274611e+01 -2.853831e+01   \n",
      "Snowfall (cm)             1.151699e+01  2.191829e+00  1.204683e+00   \n",
      "Seasons_Spring           -7.451713e+01 -5.491103e+01 -4.740216e+01   \n",
      "Seasons_Summer            4.822873e+01  2.482955e+01  4.200376e+01   \n",
      "Seasons_Winter           -1.082339e+02 -7.844677e+01 -6.355808e+01   \n",
      "Holiday_No Holiday       -2.933786e+01 -2.267852e+01  2.837688e+01   \n",
      "Functioning Day_Yes       2.308062e+02  1.493630e+02  1.484189e+02   \n",
      "\n",
      "                              Model_6      Model_7      Model_8     Model_9  \\\n",
      "const                      190.515331   -70.389930  -417.204593  -79.103434   \n",
      "Humidity(%)                 -4.323602    -3.916768    -3.086516   -4.081183   \n",
      "Wind speed (m/s)             0.022507    15.722862    16.461191  -19.448084   \n",
      "Dew point temperature(C)    11.020780     9.810025     3.477456    8.455323   \n",
      "Solar Radiation (MJ/m2)   3616.655417  1201.548942   483.798513  183.407489   \n",
      "Rainfall(mm)               -37.426894   -78.107296  -139.454680  -55.853848   \n",
      "Snowfall (cm)                2.763139   -45.884612  -116.429123  -10.300589   \n",
      "Seasons_Spring            -121.814252  -334.992136  -419.520222 -178.403955   \n",
      "Seasons_Summer             -65.392830  -241.374551  -225.483564 -128.290765   \n",
      "Seasons_Winter            -139.480286  -451.286677  -746.528336 -368.691483   \n",
      "Holiday_No Holiday         115.897454   293.094824   548.960718  180.881259   \n",
      "Functioning Day_Yes        321.324385   800.528936  1304.990925  866.536562   \n",
      "\n",
      "                          ...     Model_14     Model_15     Model_16  \\\n",
      "const                     ...   121.666638   216.079874   278.896752   \n",
      "Humidity(%)               ...    -7.873555   -10.176407   -13.108746   \n",
      "Wind speed (m/s)          ...   -22.414548   -20.468886   -24.473035   \n",
      "Dew point temperature(C)  ...    15.737150    17.079564    24.075558   \n",
      "Solar Radiation (MJ/m2)   ...   129.114549   134.908684   147.378856   \n",
      "Rainfall(mm)              ...  -168.029176   -57.059843  -195.620148   \n",
      "Snowfall (cm)             ...   -31.706892   -47.118296   -44.207049   \n",
      "Seasons_Spring            ...  -138.377359  -187.466799  -234.176456   \n",
      "Seasons_Summer            ...  -362.543056  -361.818938  -455.489709   \n",
      "Seasons_Winter            ...  -480.975063  -568.328290  -617.154994   \n",
      "Holiday_No Holiday        ...   -85.588045   -59.206859   -11.706207   \n",
      "Functioning Day_Yes       ...  1130.228963  1227.443512  1427.906146   \n",
      "\n",
      "                             Model_17     Model_18     Model_19     Model_20  \\\n",
      "const                      319.188443   309.603948   506.997701   825.154343   \n",
      "Humidity(%)                -16.206739   -21.535367   -16.271964   -22.027707   \n",
      "Wind speed (m/s)           -12.334925    15.314968    -8.921914   -10.328622   \n",
      "Dew point temperature(C)    30.995645    41.955958    34.028105    44.868635   \n",
      "Solar Radiation (MJ/m2)    247.262255   538.092002  1798.738114  9958.422588   \n",
      "Rainfall(mm)              -129.034890   -60.233450  -259.639798   -60.639588   \n",
      "Snowfall (cm)              -28.498524    11.298871    -5.787129    80.566869   \n",
      "Seasons_Spring            -366.635390  -491.181177  -465.303788  -257.354069   \n",
      "Seasons_Summer            -538.392249  -680.605844  -586.570858  -441.421591   \n",
      "Seasons_Winter            -737.975711  -886.289489  -715.987453  -487.281616   \n",
      "Holiday_No Holiday         108.225874   413.049119   148.574839   126.555150   \n",
      "Functioning Day_Yes       1672.682079  2036.252021  1565.663663  1411.830561   \n",
      "\n",
      "                              Model_21      Model_22      Model_23  \n",
      "const                     7.997832e+02  6.116322e+02  4.817573e+02  \n",
      "Humidity(%)              -2.188993e+01 -1.573601e+01 -1.210441e+01  \n",
      "Wind speed (m/s)         -1.064475e+01 -4.177639e+01 -1.913973e+01  \n",
      "Dew point temperature(C)  4.786787e+01  3.697777e+01  2.796704e+01  \n",
      "Solar Radiation (MJ/m2)   8.734168e-14  7.357782e-14 -8.043443e-14  \n",
      "Rainfall(mm)             -8.195177e+01 -3.954841e+02 -2.118323e+02  \n",
      "Snowfall (cm)             8.258625e+01  1.266834e+01  2.261029e+01  \n",
      "Seasons_Spring           -1.485488e+02 -1.129216e+02 -1.182035e+02  \n",
      "Seasons_Summer           -1.628474e+01  1.072236e+02  7.407091e+01  \n",
      "Seasons_Winter           -4.018324e+02 -3.934212e+02 -2.923048e+02  \n",
      "Holiday_No Holiday        1.690526e+02  1.519224e+02  8.928394e+01  \n",
      "Functioning Day_Yes       1.373679e+03  1.199274e+03  9.068926e+02  \n",
      "\n",
      "[12 rows x 24 columns]\n"
     ]
    }
   ],
   "source": [
    "coef_df_por_Hora = pd.DataFrame(index=coeficientes0.index)  # Usamos el índice de uno de los conjuntos de coeficientes\n",
    "\n",
    "# Iterar sobre los modelos y agregar los coeficientes al DataFrame\n",
    "for i in range(24):  # Iterar sobre los modelos\n",
    "    coef_df_por_Hora[f'Model_{i}'] = globals()[f'coeficientes{i}'].values\n",
    "\n",
    "# Imprimir el DataFrame con los coeficientes de todos los modelos\n",
    "print(coef_df_por_Hora)\n",
    "\n",
    "coef_df_por_Hora.to_csv(\"coef_df_por_Hora.csv\",index=True,encoding=\"utf-8\")"
   ]
  },
  {
   "cell_type": "markdown",
   "metadata": {},
   "source": [
    "### Hora como variable categorica"
   ]
  },
  {
   "cell_type": "code",
   "execution_count": 94,
   "metadata": {},
   "outputs": [
    {
     "data": {
      "text/plain": [
       "(8743, 34)"
      ]
     },
     "execution_count": 94,
     "metadata": {},
     "output_type": "execute_result"
    }
   ],
   "source": [
    "# Definir las variables explicativas del modelo. Es decir todas menos la variable de respuesta\n",
    "features = ['Hour', 'Humidity(%)',\n",
    "       'Wind speed (m/s)', 'Dew point temperature(C)',\n",
    "       'Solar Radiation (MJ/m2)', 'Rainfall(mm)', 'Snowfall (cm)', 'Seasons',\n",
    "       'Holiday', 'Functioning Day']\n",
    "\n",
    "# Guardar el df con solo variables explicativas\n",
    "X = data[features]\n",
    "\n",
    "# Convertir las variable de tipo texto en categoricas.\n",
    "# Se usa el dtype=int, para que lo convierta en 1-0 y no en true-false para facilidad del modelo\n",
    "# Se usa drop_first=true, para eliminar la primera opción de las variables categoricas y evitar el problema de multicolinealidad\n",
    "X = pd.get_dummies(X, columns=[\"Hour\", 'Seasons', 'Holiday', 'Functioning Day'], dtype=int, drop_first=True)\n",
    "\n",
    "X.head()\n",
    "\n",
    "X.shape"
   ]
  },
  {
   "cell_type": "code",
   "execution_count": 95,
   "metadata": {},
   "outputs": [
    {
     "data": {
      "text/plain": [
       "(8743,)"
      ]
     },
     "execution_count": 95,
     "metadata": {},
     "output_type": "execute_result"
    }
   ],
   "source": [
    "Y=data[\"Rented Bike Count\"]\n",
    "Y.head()\n",
    "\n",
    "Y.shape"
   ]
  },
  {
   "cell_type": "code",
   "execution_count": 96,
   "metadata": {},
   "outputs": [],
   "source": [
    "X_train, X_test, y_train, y_test = train_test_split(X, Y, random_state=1,test_size=0.2)\n",
    "\n",
    "# agregar constante explíticamente\n",
    "X_train = sm.add_constant(X_train)"
   ]
  },
  {
   "cell_type": "code",
   "execution_count": 97,
   "metadata": {},
   "outputs": [
    {
     "name": "stdout",
     "output_type": "stream",
     "text": [
      "                             OLS Regression Results                            \n",
      "===============================================================================\n",
      "Dep. Variable:       Rented Bike Count   R-squared:                       0.668\n",
      "Model:                             OLS   Adj. R-squared:                  0.666\n",
      "Method:                  Least Squares   F-statistic:                     411.7\n",
      "Date:              lun., 09 sept. 2024   Prob (F-statistic):               0.00\n",
      "Time:                         15:47:51   Log-Likelihood:                -51344.\n",
      "No. Observations:                 6994   AIC:                         1.028e+05\n",
      "Df Residuals:                     6959   BIC:                         1.030e+05\n",
      "Df Model:                           34                                         \n",
      "Covariance Type:             nonrobust                                         \n",
      "============================================================================================\n",
      "                               coef    std err          t      P>|t|      [0.025      0.975]\n",
      "--------------------------------------------------------------------------------------------\n",
      "const                      457.5831     44.683     10.241      0.000     369.992     545.174\n",
      "Humidity(%)                -13.7466      0.429    -32.055      0.000     -14.587     -12.906\n",
      "Wind speed (m/s)            -1.0106      5.046     -0.200      0.841     -10.901       8.880\n",
      "Dew point temperature(C)    26.5008      0.926     28.634      0.000      24.687      28.315\n",
      "Solar Radiation (MJ/m2)     78.5788     10.895      7.212      0.000      57.221      99.937\n",
      "Rainfall(mm)               -50.6573      4.067    -12.455      0.000     -58.631     -42.684\n",
      "Snowfall (cm)               32.5412     10.998      2.959      0.003      10.981      54.101\n",
      "Hour_1                    -103.8715     30.393     -3.418      0.001    -163.452     -44.292\n",
      "Hour_2                    -195.6453     30.438     -6.428      0.000    -255.313    -135.977\n",
      "Hour_3                    -274.2773     30.769     -8.914      0.000    -334.593    -213.961\n",
      "Hour_4                    -328.5605     30.699    -10.702      0.000    -388.741    -268.380\n",
      "Hour_5                    -314.6786     30.554    -10.299      0.000    -374.575    -254.783\n",
      "Hour_6                    -159.3524     30.501     -5.224      0.000    -219.145     -99.560\n",
      "Hour_7                     139.2977     31.044      4.487      0.000      78.441     200.154\n",
      "Hour_8                     485.0617     30.599     15.852      0.000     425.078     545.045\n",
      "Hour_9                      27.2150     31.426      0.866      0.387     -34.389      88.819\n",
      "Hour_10                   -216.1973     32.564     -6.639      0.000    -280.033    -152.362\n",
      "Hour_11                   -221.1412     33.856     -6.532      0.000    -287.509    -154.773\n",
      "Hour_12                   -197.3113     34.999     -5.638      0.000    -265.920    -128.703\n",
      "Hour_13                   -201.7027     35.521     -5.678      0.000    -271.335    -132.071\n",
      "Hour_14                   -184.1807     34.713     -5.306      0.000    -252.228    -116.134\n",
      "Hour_15                   -101.2558     33.988     -2.979      0.003    -167.882     -34.630\n",
      "Hour_16                     44.8608     32.897      1.364      0.173     -19.628     109.350\n",
      "Hour_17                    285.7410     31.922      8.951      0.000     223.165     348.318\n",
      "Hour_18                    762.4644     31.007     24.590      0.000     701.681     823.248\n",
      "Hour_19                    514.2681     30.917     16.634      0.000     453.662     574.874\n",
      "Hour_20                    426.4915     30.345     14.055      0.000     367.006     485.977\n",
      "Hour_21                    424.1270     30.411     13.946      0.000     364.512     483.742\n",
      "Hour_22                    331.2661     30.429     10.887      0.000     271.616     390.916\n",
      "Hour_23                    103.4194     30.556      3.385      0.001      43.521     163.318\n",
      "Seasons_Spring            -147.7991     13.218    -11.181      0.000    -173.711    -121.887\n",
      "Seasons_Summer            -186.0003     16.955    -10.970      0.000    -219.238    -152.763\n",
      "Seasons_Winter            -343.9661     18.852    -18.245      0.000    -380.923    -307.010\n",
      "Holiday_No Holiday         130.4562     21.003      6.211      0.000      89.284     171.628\n",
      "Functioning Day_Yes        938.2225     25.662     36.561      0.000     887.917     988.528\n",
      "==============================================================================\n",
      "Omnibus:                      295.575   Durbin-Watson:                   1.964\n",
      "Prob(Omnibus):                  0.000   Jarque-Bera (JB):              500.314\n",
      "Skew:                           0.356   Prob(JB):                    2.28e-109\n",
      "Kurtosis:                       4.099   Cond. No.                     1.51e+03\n",
      "==============================================================================\n",
      "\n",
      "Notes:\n",
      "[1] Standard Errors assume that the covariance matrix of the errors is correctly specified.\n",
      "[2] The condition number is large, 1.51e+03. This might indicate that there are\n",
      "strong multicollinearity or other numerical problems.\n"
     ]
    }
   ],
   "source": [
    "# regresión usando mínimos cuadrados ordinarios (ordinary least squares - OLS) \n",
    "model = sm.OLS(y_train, X_train).fit()\n",
    "\n",
    "# resumen de resultados\n",
    "print(model.summary())"
   ]
  },
  {
   "cell_type": "code",
   "execution_count": null,
   "metadata": {},
   "outputs": [],
   "source": [
    "coeficientes= model.params"
   ]
  },
  {
   "cell_type": "code",
   "execution_count": 98,
   "metadata": {},
   "outputs": [],
   "source": [
    "coeficientes.to_csv(\"coeficiente_df_hora_categorica.csv\",index=True,encoding=\"utf-8\")"
   ]
  }
 ],
 "metadata": {
  "kernelspec": {
   "display_name": "Python 3",
   "language": "python",
   "name": "python3"
  },
  "language_info": {
   "codemirror_mode": {
    "name": "ipython",
    "version": 3
   },
   "file_extension": ".py",
   "mimetype": "text/x-python",
   "name": "python",
   "nbconvert_exporter": "python",
   "pygments_lexer": "ipython3",
   "version": "3.11.9"
  }
 },
 "nbformat": 4,
 "nbformat_minor": 2
}
